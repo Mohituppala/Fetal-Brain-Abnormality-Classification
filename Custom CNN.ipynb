{
 "cells": [
  {
   "cell_type": "code",
   "execution_count": 76,
   "id": "78aac35a-6733-4609-849e-fa65f62fdbfc",
   "metadata": {},
   "outputs": [],
   "source": [
    "import os\n",
    "import pandas as pd\n",
    "import numpy as np\n",
    "import matplotlib.pyplot as plt\n",
    "import seaborn as sns\n",
    "from sklearn.model_selection import train_test_split\n",
    "from sklearn.metrics import classification_report\n",
    "from tensorflow.keras.preprocessing.image import ImageDataGenerator, load_img, img_to_array\n",
    "from tensorflow.keras.models import Sequential\n",
    "from tensorflow.keras import layers, models, regularizers\n",
    "from tensorflow.keras.layers import Dense, Dropout, Flatten, Conv2D, MaxPooling2D\n",
    "from tensorflow.keras.applications import VGG16, ResNet50, InceptionV3\n",
    "from tensorflow.keras.optimizers import Adam\n",
    "from tensorflow.keras.callbacks import EarlyStopping\n",
    "from tensorflow.keras.utils import to_categorical\n",
    "from PIL import Image\n",
    "import tensorflow as tf\n"
   ]
  },
  {
   "cell_type": "code",
   "execution_count": 78,
   "id": "10828f44-253a-4e94-816f-6c190d822b81",
   "metadata": {},
   "outputs": [],
   "source": [
    "no_df = df[df['labels'] == 'No']\n",
    "yes_df = df[df['labels'] == 'Yes']\n",
    "\n",
    "augmentor = ImageDataGenerator(\n",
    "    rotation_range=20,\n",
    "    width_shift_range=0.1,\n",
    "    height_shift_range=0.1,\n",
    "    shear_range=0.1,\n",
    "    zoom_range=0.1,\n",
    "    horizontal_flip=True,\n",
    "    fill_mode='nearest'\n",
    ")\n",
    "\n",
    "augmented_images = []\n",
    "augmented_labels = []\n",
    "\n",
    "n_generate = len(yes_df) - len(no_df)\n",
    "\n",
    "for i in range(n_generate):\n",
    "    img_path = no_df.iloc[i % len(no_df)]['filepaths']\n",
    "    img = load_img(img_path, target_size=(224, 224))\n",
    "    img_array = img_to_array(img)\n",
    "    img_array = np.expand_dims(img_array, axis=0)\n",
    "    \n",
    "    aug_iter = augmentor.flow(img_array, batch_size=1)\n",
    "    aug_img = next(aug_iter)[0].astype(np.uint8)\n",
    "    \n",
    "    augmented_images.append(aug_img)\n",
    "    augmented_labels.append('No')\n"
   ]
  },
  {
   "cell_type": "code",
   "execution_count": 79,
   "id": "24002387-e66e-4637-953a-adb1f8101cb0",
   "metadata": {},
   "outputs": [],
   "source": [
    "augmented_folder = \"C:/Users/aniru/OneDrive/Desktop/Capstone/Augmented_No\"\n",
    "os.makedirs(augmented_folder, exist_ok=True)\n",
    "\n",
    "augmented_filepaths = []\n",
    "\n",
    "for idx, img in enumerate(augmented_images):\n",
    "    img_pil = Image.fromarray(img)\n",
    "    path = os.path.join(augmented_folder, f\"aug_no_{idx}.jpg\")\n",
    "    img_pil.save(path)\n",
    "    augmented_filepaths.append(path)\n"
   ]
  },
  {
   "cell_type": "code",
   "execution_count": 80,
   "id": "05ace3fd-f49a-4a09-aa3f-c24a6bbd8489",
   "metadata": {},
   "outputs": [],
   "source": [
    "augmented_df = pd.DataFrame({\n",
    "    'filepaths': augmented_filepaths,\n",
    "    'labels': augmented_labels\n",
    "})\n",
    "\n",
    "final_df = pd.concat([df, augmented_df], axis=0).reset_index(drop=True)\n"
   ]
  },
  {
   "cell_type": "code",
   "execution_count": 81,
   "id": "7d255999-8360-4ff6-8df9-97e15ec2fcd3",
   "metadata": {},
   "outputs": [
    {
     "name": "stdout",
     "output_type": "stream",
     "text": [
      "Found 1198 validated image filenames belonging to 2 classes.\n",
      "Found 300 validated image filenames belonging to 2 classes.\n"
     ]
    }
   ],
   "source": [
    "train_df, test_df = train_test_split(final_df, test_size=0.2, stratify=final_df['labels'], random_state=42)\n",
    "\n",
    "train_datagen = ImageDataGenerator(rescale=1./255)\n",
    "test_datagen = ImageDataGenerator(rescale=1./255)\n",
    "\n",
    "train_generator = train_datagen.flow_from_dataframe(\n",
    "    dataframe=train_df,\n",
    "    x_col='filepaths',\n",
    "    y_col='labels',\n",
    "    target_size=(224, 224),\n",
    "    batch_size=64,\n",
    "    class_mode='binary'\n",
    ")\n",
    "\n",
    "test_generator = test_datagen.flow_from_dataframe(\n",
    "    dataframe=test_df,\n",
    "    x_col='filepaths',\n",
    "    y_col='labels',\n",
    "    target_size=(224, 224),\n",
    "    batch_size=32,\n",
    "    class_mode='binary',\n",
    "    shuffle=False\n",
    ")\n"
   ]
  },
  {
   "cell_type": "code",
   "execution_count": 82,
   "id": "b55d607c-06f3-4ae4-af85-d4b9d9116bed",
   "metadata": {},
   "outputs": [
    {
     "name": "stdout",
     "output_type": "stream",
     "text": [
      "Model: \"sequential_5\"\n",
      "_________________________________________________________________\n",
      " Layer (type)                Output Shape              Param #   \n",
      "=================================================================\n",
      " conv2d_6 (Conv2D)           (None, 224, 224, 25)      1900      \n",
      "                                                                 \n",
      " max_pooling2d_6 (MaxPooling  (None, 112, 112, 25)     0         \n",
      " 2D)                                                             \n",
      "                                                                 \n",
      " batch_normalization_4 (Batc  (None, 112, 112, 25)     100       \n",
      " hNormalization)                                                 \n",
      "                                                                 \n",
      " conv2d_7 (Conv2D)           (None, 112, 112, 50)      31300     \n",
      "                                                                 \n",
      " max_pooling2d_7 (MaxPooling  (None, 56, 56, 50)       0         \n",
      " 2D)                                                             \n",
      "                                                                 \n",
      " batch_normalization_5 (Batc  (None, 56, 56, 50)       200       \n",
      " hNormalization)                                                 \n",
      "                                                                 \n",
      " conv2d_8 (Conv2D)           (None, 56, 56, 70)        31570     \n",
      "                                                                 \n",
      " max_pooling2d_8 (MaxPooling  (None, 28, 28, 70)       0         \n",
      " 2D)                                                             \n",
      "                                                                 \n",
      " batch_normalization_6 (Batc  (None, 28, 28, 70)       280       \n",
      " hNormalization)                                                 \n",
      "                                                                 \n",
      " conv2d_9 (Conv2D)           (None, 26, 26, 70)        44170     \n",
      "                                                                 \n",
      " max_pooling2d_9 (MaxPooling  (None, 13, 13, 70)       0         \n",
      " 2D)                                                             \n",
      "                                                                 \n",
      " batch_normalization_7 (Batc  (None, 13, 13, 70)       280       \n",
      " hNormalization)                                                 \n",
      "                                                                 \n",
      " flatten_3 (Flatten)         (None, 11830)             0         \n",
      "                                                                 \n",
      " dense_7 (Dense)             (None, 100)               1183100   \n",
      "                                                                 \n",
      " dropout_4 (Dropout)         (None, 100)               0         \n",
      "                                                                 \n",
      " dense_8 (Dense)             (None, 100)               10100     \n",
      "                                                                 \n",
      " dropout_5 (Dropout)         (None, 100)               0         \n",
      "                                                                 \n",
      " dense_9 (Dense)             (None, 1)                 101       \n",
      "                                                                 \n",
      "=================================================================\n",
      "Total params: 1,303,101\n",
      "Trainable params: 1,302,671\n",
      "Non-trainable params: 430\n",
      "_________________________________________________________________\n"
     ]
    }
   ],
   "source": [
    "model2 = models.Sequential([\n",
    "    layers.Input(shape=(224, 224, 3)),\n",
    "    \n",
    "    # First Convolutional Block\n",
    "    layers.Conv2D(25, (5, 5), activation='relu', padding='same'),\n",
    "    layers.MaxPooling2D(pool_size=(2, 2)),\n",
    "    layers.BatchNormalization(),\n",
    "    \n",
    "    # Second Convolutional Block\n",
    "    layers.Conv2D(50, (5, 5), activation='relu', padding='same'),\n",
    "    layers.MaxPooling2D(pool_size=(2, 2)),\n",
    "    layers.BatchNormalization(),\n",
    "    \n",
    "    # Third Convolutional Block\n",
    "    layers.Conv2D(70, (3, 3), activation='relu', padding='same'),\n",
    "    layers.MaxPooling2D(pool_size=(2, 2)),\n",
    "    layers.BatchNormalization(),\n",
    "    \n",
    "    layers.Conv2D(70, (3, 3), activation='relu', padding='valid'),\n",
    "    layers.MaxPooling2D(pool_size=(2, 2)),\n",
    "    layers.BatchNormalization(),\n",
    "    \n",
    "    # ANN Block\n",
    "    layers.Flatten(),\n",
    "    layers.Dense(100, activation='relu'),\n",
    "    layers.Dropout(0.25),\n",
    "    layers.Dense(100, activation='relu'),\n",
    "    layers.Dropout(0.25),\n",
    "    \n",
    "    # Output Layer\n",
    "    layers.Dense(1, activation='sigmoid')  # for binary classification\n",
    "])\n",
    "\n",
    "# Compile the model\n",
    "model2.compile(optimizer='adam', loss='binary_crossentropy', metrics=['accuracy'])\n",
    "\n",
    "# Show the model architecture\n",
    "model2.summary()"
   ]
  },
  {
   "cell_type": "code",
   "execution_count": 83,
   "id": "69f9344e-68c1-4326-9236-651e46a6c02d",
   "metadata": {},
   "outputs": [],
   "source": [
    "model2.compile(\n",
    "    optimizer='adam',                 # Adam optimizer\n",
    "    loss='binary_crossentropy',        # Because it's a binary classification\n",
    "    metrics=['accuracy']               # Track accuracy during training\n",
    ")"
   ]
  },
  {
   "cell_type": "code",
   "execution_count": 84,
   "id": "29735d6f-4e38-4b70-bc7a-53085d1b61cc",
   "metadata": {},
   "outputs": [
    {
     "name": "stdout",
     "output_type": "stream",
     "text": [
      "Epoch 1/30\n",
      "19/19 [==============================] - 11s 430ms/step - loss: 0.7679 - accuracy: 0.6102 - val_loss: 0.6943 - val_accuracy: 0.5000\n",
      "Epoch 2/30\n",
      "19/19 [==============================] - 4s 192ms/step - loss: 0.5810 - accuracy: 0.6970 - val_loss: 0.6926 - val_accuracy: 0.5033\n",
      "Epoch 3/30\n",
      "19/19 [==============================] - 4s 187ms/step - loss: 0.4724 - accuracy: 0.7546 - val_loss: 0.6910 - val_accuracy: 0.5100\n",
      "Epoch 4/30\n",
      "19/19 [==============================] - 4s 189ms/step - loss: 0.4250 - accuracy: 0.7905 - val_loss: 0.6897 - val_accuracy: 0.5167\n",
      "Epoch 5/30\n",
      "19/19 [==============================] - 4s 196ms/step - loss: 0.3620 - accuracy: 0.8322 - val_loss: 0.6962 - val_accuracy: 0.5033\n",
      "Epoch 6/30\n",
      "19/19 [==============================] - 4s 191ms/step - loss: 0.2643 - accuracy: 0.8848 - val_loss: 0.6844 - val_accuracy: 0.5533\n",
      "Epoch 7/30\n",
      "19/19 [==============================] - 4s 186ms/step - loss: 0.2063 - accuracy: 0.9132 - val_loss: 0.7325 - val_accuracy: 0.5067\n",
      "Epoch 8/30\n",
      "19/19 [==============================] - 4s 186ms/step - loss: 0.2299 - accuracy: 0.8990 - val_loss: 0.7486 - val_accuracy: 0.5000\n",
      "Epoch 9/30\n",
      "19/19 [==============================] - 4s 182ms/step - loss: 0.1500 - accuracy: 0.9441 - val_loss: 0.7495 - val_accuracy: 0.4600\n",
      "Epoch 10/30\n",
      "19/19 [==============================] - 4s 186ms/step - loss: 0.1178 - accuracy: 0.9541 - val_loss: 1.4465 - val_accuracy: 0.5067\n",
      "Epoch 11/30\n",
      "19/19 [==============================] - 4s 196ms/step - loss: 0.1042 - accuracy: 0.9616 - val_loss: 0.9199 - val_accuracy: 0.5133\n",
      "Epoch 12/30\n",
      "19/19 [==============================] - 4s 193ms/step - loss: 0.0899 - accuracy: 0.9683 - val_loss: 0.8114 - val_accuracy: 0.5933\n",
      "Epoch 13/30\n",
      "19/19 [==============================] - 4s 198ms/step - loss: 0.0942 - accuracy: 0.9624 - val_loss: 1.2819 - val_accuracy: 0.4767\n",
      "Epoch 14/30\n",
      "19/19 [==============================] - 4s 201ms/step - loss: 0.0877 - accuracy: 0.9683 - val_loss: 1.0121 - val_accuracy: 0.5433\n",
      "Epoch 15/30\n",
      "19/19 [==============================] - 4s 196ms/step - loss: 0.0570 - accuracy: 0.9791 - val_loss: 1.1543 - val_accuracy: 0.5900\n",
      "Epoch 16/30\n",
      "19/19 [==============================] - 4s 195ms/step - loss: 0.0441 - accuracy: 0.9816 - val_loss: 1.3460 - val_accuracy: 0.6333\n",
      "Epoch 17/30\n",
      "19/19 [==============================] - 4s 193ms/step - loss: 0.0461 - accuracy: 0.9841 - val_loss: 1.2567 - val_accuracy: 0.6033\n",
      "Epoch 18/30\n",
      "19/19 [==============================] - 4s 188ms/step - loss: 0.0251 - accuracy: 0.9933 - val_loss: 1.2469 - val_accuracy: 0.6600\n",
      "Epoch 19/30\n",
      "19/19 [==============================] - 4s 197ms/step - loss: 0.0255 - accuracy: 0.9891 - val_loss: 1.2362 - val_accuracy: 0.6367\n",
      "Epoch 20/30\n",
      "19/19 [==============================] - 4s 192ms/step - loss: 0.0434 - accuracy: 0.9875 - val_loss: 0.9063 - val_accuracy: 0.7200\n",
      "Epoch 21/30\n",
      "19/19 [==============================] - 4s 196ms/step - loss: 0.0231 - accuracy: 0.9908 - val_loss: 1.1831 - val_accuracy: 0.7167\n",
      "Epoch 22/30\n",
      "19/19 [==============================] - 4s 197ms/step - loss: 0.0177 - accuracy: 0.9933 - val_loss: 0.7571 - val_accuracy: 0.7567\n",
      "Epoch 23/30\n",
      "19/19 [==============================] - 4s 201ms/step - loss: 0.0184 - accuracy: 0.9933 - val_loss: 0.7150 - val_accuracy: 0.7733\n",
      "Epoch 24/30\n",
      "19/19 [==============================] - 4s 193ms/step - loss: 0.0185 - accuracy: 0.9950 - val_loss: 0.7695 - val_accuracy: 0.7700\n",
      "Epoch 25/30\n",
      "19/19 [==============================] - 4s 192ms/step - loss: 0.0182 - accuracy: 0.9917 - val_loss: 0.6046 - val_accuracy: 0.8000\n",
      "Epoch 26/30\n",
      "19/19 [==============================] - 4s 199ms/step - loss: 0.0184 - accuracy: 0.9950 - val_loss: 0.5867 - val_accuracy: 0.8133\n",
      "Epoch 27/30\n",
      "19/19 [==============================] - 4s 190ms/step - loss: 0.0179 - accuracy: 0.9925 - val_loss: 0.8141 - val_accuracy: 0.8067\n",
      "Epoch 28/30\n",
      "19/19 [==============================] - 4s 190ms/step - loss: 0.0218 - accuracy: 0.9908 - val_loss: 0.7138 - val_accuracy: 0.8167\n",
      "Epoch 29/30\n",
      "19/19 [==============================] - 4s 198ms/step - loss: 0.0177 - accuracy: 0.9950 - val_loss: 0.6659 - val_accuracy: 0.8333\n",
      "Epoch 30/30\n",
      "19/19 [==============================] - 4s 199ms/step - loss: 0.0118 - accuracy: 0.9967 - val_loss: 0.9775 - val_accuracy: 0.7600\n"
     ]
    }
   ],
   "source": [
    "epochs = 30\n",
    "batch_size = 32\n",
    "\n",
    "# Train the model\n",
    "history = model2.fit(\n",
    "    train_generator,\n",
    "    validation_data=test_generator,\n",
    "    epochs=epochs,\n",
    "    batch_size=batch_size\n",
    ")"
   ]
  },
  {
   "cell_type": "code",
   "execution_count": 85,
   "id": "d0ea717f-fbe0-4c0d-a70a-6b9192723469",
   "metadata": {},
   "outputs": [
    {
     "name": "stdout",
     "output_type": "stream",
     "text": [
      "10/10 [==============================] - 1s 61ms/step\n",
      "              precision    recall  f1-score   support\n",
      "\n",
      "          No       0.81      0.68      0.74       150\n",
      "         Yes       0.72      0.84      0.78       150\n",
      "\n",
      "    accuracy                           0.76       300\n",
      "   macro avg       0.77      0.76      0.76       300\n",
      "weighted avg       0.77      0.76      0.76       300\n",
      "\n"
     ]
    }
   ],
   "source": [
    "true_labels = test_generator.classes\n",
    "class_labels = list(test_generator.class_indices.keys())\n",
    "\n",
    "# Predict probabilities\n",
    "pred_probs = model2.predict(test_generator)\n",
    "# Convert probabilities to binary class (threshold = 0.5)\n",
    "pred_labels = (pred_probs > 0.5).astype(int).reshape(-1)\n",
    "\n",
    "\n",
    "# Generate the classification report\n",
    "report = classification_report(true_labels, pred_labels, target_names=class_labels)\n",
    "print(report)"
   ]
  },
  {
   "cell_type": "code",
   "execution_count": 86,
   "id": "ec494ada-c6ab-40e9-89c2-22e9800533df",
   "metadata": {},
   "outputs": [
    {
     "name": "stdout",
     "output_type": "stream",
     "text": [
      "labels\n",
      "No     749\n",
      "Yes    749\n",
      "Name: count, dtype: int64\n"
     ]
    }
   ],
   "source": [
    "# Number of images per class after augmentation\n",
    "print(final_df['labels'].value_counts())"
   ]
  },
  {
   "cell_type": "code",
   "execution_count": 90,
   "id": "f2a861d6-2a47-4ef1-8cf3-f041864fa48b",
   "metadata": {},
   "outputs": [
    {
     "name": "stdout",
     "output_type": "stream",
     "text": [
      "{'No': 0, 'Yes': 1}\n"
     ]
    }
   ],
   "source": [
    "print(test_generator.class_indices)\n"
   ]
  },
  {
   "cell_type": "code",
   "execution_count": null,
   "id": "cc1826db-2d05-4f69-ab13-c76e3d2ac95c",
   "metadata": {},
   "outputs": [],
   "source": []
  }
 ],
 "metadata": {
  "kernelspec": {
   "display_name": "Python (tf_env)",
   "language": "python",
   "name": "tf_env"
  },
  "language_info": {
   "codemirror_mode": {
    "name": "ipython",
    "version": 3
   },
   "file_extension": ".py",
   "mimetype": "text/x-python",
   "name": "python",
   "nbconvert_exporter": "python",
   "pygments_lexer": "ipython3",
   "version": "3.8.20"
  }
 },
 "nbformat": 4,
 "nbformat_minor": 5
}
